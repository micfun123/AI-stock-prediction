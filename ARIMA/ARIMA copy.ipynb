{
 "cells": [
  {
   "cell_type": "code",
   "execution_count": 57,
   "id": "b73c4993",
   "metadata": {},
   "outputs": [],
   "source": [
    "import numpy as np\n",
    "import pandas as pd\n",
    "import matplotlib.pyplot as plt\n",
    "import yfinance as yf\n",
    "from sklearn.preprocessing import StandardScaler\n",
    "from sklearn.metrics import mean_squared_error, mean_absolute_error, mean_absolute_percentage_error\n",
    "from statsmodels.tsa.arima.model import ARIMA\n",
    "from pmdarima import auto_arima"
   ]
  },
  {
   "cell_type": "code",
   "execution_count": 58,
   "id": "3ed890f0",
   "metadata": {},
   "outputs": [],
   "source": [
    "# All settings are at the top for easy changes\n",
    "CONFIG = {\n",
    "    \"symbols\": ['AMZN', '^GSPC', '^VIX', 'AAPL'],\n",
    "    \"feature_cols\": ['GSPC', 'VIX', 'AAPL'], \n",
    "    \"target_col\": 'AMZN',\n",
    "    \"start_date\": '2018-01-01',\n",
    "    \"end_date\": '2024-12-31',\n",
    "    \"train_split_ratio\": 0.8,\n",
    "    \"refit_interval\": 20\n",
    "}"
   ]
  },
  {
   "cell_type": "code",
   "execution_count": 59,
   "id": "c8fd16f5",
   "metadata": {},
   "outputs": [
    {
     "name": "stderr",
     "output_type": "stream",
     "text": [
      "/tmp/ipykernel_228918/1102727090.py:2: FutureWarning: YF.download() has changed argument auto_adjust default to True\n",
      "  data = yf.download(CONFIG['symbols'], start=CONFIG['start_date'], end=CONFIG['end_date'])['Close']\n",
      "[*********************100%***********************]  4 of 4 completed"
     ]
    },
    {
     "name": "stdout",
     "output_type": "stream",
     "text": [
      "Fetching data...\n"
     ]
    },
    {
     "name": "stderr",
     "output_type": "stream",
     "text": [
      "\n"
     ]
    },
    {
     "data": {
      "text/html": [
       "<div>\n",
       "<style scoped>\n",
       "    .dataframe tbody tr th:only-of-type {\n",
       "        vertical-align: middle;\n",
       "    }\n",
       "\n",
       "    .dataframe tbody tr th {\n",
       "        vertical-align: top;\n",
       "    }\n",
       "\n",
       "    .dataframe thead th {\n",
       "        text-align: right;\n",
       "    }\n",
       "</style>\n",
       "<table border=\"1\" class=\"dataframe\">\n",
       "  <thead>\n",
       "    <tr style=\"text-align: right;\">\n",
       "      <th></th>\n",
       "      <th>AMZN</th>\n",
       "      <th>GSPC</th>\n",
       "      <th>VIX</th>\n",
       "      <th>AAPL</th>\n",
       "    </tr>\n",
       "    <tr>\n",
       "      <th>Date</th>\n",
       "      <th></th>\n",
       "      <th></th>\n",
       "      <th></th>\n",
       "      <th></th>\n",
       "    </tr>\n",
       "  </thead>\n",
       "  <tbody>\n",
       "    <tr>\n",
       "      <th>2018-01-02</th>\n",
       "      <td>40.426823</td>\n",
       "      <td>59.450500</td>\n",
       "      <td>2695.810059</td>\n",
       "      <td>9.77</td>\n",
       "    </tr>\n",
       "    <tr>\n",
       "      <th>2018-01-03</th>\n",
       "      <td>40.419785</td>\n",
       "      <td>60.209999</td>\n",
       "      <td>2713.060059</td>\n",
       "      <td>9.15</td>\n",
       "    </tr>\n",
       "    <tr>\n",
       "      <th>2018-01-04</th>\n",
       "      <td>40.607548</td>\n",
       "      <td>60.479500</td>\n",
       "      <td>2723.989990</td>\n",
       "      <td>9.22</td>\n",
       "    </tr>\n",
       "    <tr>\n",
       "      <th>2018-01-05</th>\n",
       "      <td>41.069862</td>\n",
       "      <td>61.457001</td>\n",
       "      <td>2743.149902</td>\n",
       "      <td>9.22</td>\n",
       "    </tr>\n",
       "    <tr>\n",
       "      <th>2018-01-08</th>\n",
       "      <td>40.917324</td>\n",
       "      <td>62.343498</td>\n",
       "      <td>2747.709961</td>\n",
       "      <td>9.52</td>\n",
       "    </tr>\n",
       "  </tbody>\n",
       "</table>\n",
       "</div>"
      ],
      "text/plain": [
       "                 AMZN       GSPC          VIX  AAPL\n",
       "Date                                               \n",
       "2018-01-02  40.426823  59.450500  2695.810059  9.77\n",
       "2018-01-03  40.419785  60.209999  2713.060059  9.15\n",
       "2018-01-04  40.607548  60.479500  2723.989990  9.22\n",
       "2018-01-05  41.069862  61.457001  2743.149902  9.22\n",
       "2018-01-08  40.917324  62.343498  2747.709961  9.52"
      ]
     },
     "execution_count": 59,
     "metadata": {},
     "output_type": "execute_result"
    }
   ],
   "source": [
    "print(\"Fetching data...\")\n",
    "data = yf.download(CONFIG['symbols'], start=CONFIG['start_date'], end=CONFIG['end_date'])['Close']\n",
    "data = data.ffill().dropna()\n",
    "data.columns = [col.replace('^', '') for col in CONFIG['symbols']]\n",
    "\n",
    "# Immediately inspect the data\n",
    "data.head()"
   ]
  },
  {
   "cell_type": "code",
   "execution_count": 60,
   "id": "57ef5630",
   "metadata": {},
   "outputs": [
    {
     "name": "stdout",
     "output_type": "stream",
     "text": [
      "Preparing data...\n"
     ]
    }
   ],
   "source": [
    "print(\"Preparing data...\")\n",
    "train_size = int(len(data) * CONFIG['train_split_ratio'])\n",
    "train_df, test_df = data.iloc[:train_size], data.iloc[train_size:]\n",
    "\n",
    "y_train_log = np.log(train_df[CONFIG['target_col']])\n",
    "y_test = test_df[CONFIG['target_col']]\n",
    "\n",
    "scaler = StandardScaler()\n",
    "X_train = pd.DataFrame(scaler.fit_transform(train_df[CONFIG['feature_cols']]),\n",
    "                       index=train_df.index, columns=CONFIG['feature_cols'])\n",
    "X_test = pd.DataFrame(scaler.transform(test_df[CONFIG['feature_cols']]),\n",
    "                      index=test_df.index, columns=CONFIG['feature_cols'])"
   ]
  },
  {
   "cell_type": "markdown",
   "id": "17e36eed",
   "metadata": {},
   "source": []
  },
  {
   "cell_type": "code",
   "execution_count": 61,
   "id": "f1c8acee",
   "metadata": {},
   "outputs": [
    {
     "name": "stdout",
     "output_type": "stream",
     "text": [
      "Finding best ARIMA order...\n",
      "Performing stepwise search to minimize aic\n"
     ]
    },
    {
     "name": "stderr",
     "output_type": "stream",
     "text": [
      "/home/michael/AI-stock-prediction-algos/.venv/lib64/python3.12/site-packages/sklearn/utils/deprecation.py:132: FutureWarning: 'force_all_finite' was renamed to 'ensure_all_finite' in 1.6 and will be removed in 1.8.\n",
      "  warnings.warn(\n",
      "/home/michael/AI-stock-prediction-algos/.venv/lib64/python3.12/site-packages/sklearn/utils/deprecation.py:132: FutureWarning: 'force_all_finite' was renamed to 'ensure_all_finite' in 1.6 and will be removed in 1.8.\n",
      "  warnings.warn(\n",
      "/home/michael/AI-stock-prediction-algos/.venv/lib64/python3.12/site-packages/sklearn/utils/deprecation.py:132: FutureWarning: 'force_all_finite' was renamed to 'ensure_all_finite' in 1.6 and will be removed in 1.8.\n",
      "  warnings.warn(\n"
     ]
    },
    {
     "name": "stdout",
     "output_type": "stream",
     "text": [
      " ARIMA(2,0,2)(0,0,0)[0] intercept   : AIC=-6948.298, Time=0.14 sec\n",
      " ARIMA(0,0,0)(0,0,0)[0] intercept   : AIC=2271.263, Time=0.06 sec\n"
     ]
    },
    {
     "name": "stderr",
     "output_type": "stream",
     "text": [
      "/home/michael/AI-stock-prediction-algos/.venv/lib64/python3.12/site-packages/sklearn/utils/deprecation.py:132: FutureWarning: 'force_all_finite' was renamed to 'ensure_all_finite' in 1.6 and will be removed in 1.8.\n",
      "  warnings.warn(\n"
     ]
    },
    {
     "name": "stdout",
     "output_type": "stream",
     "text": [
      " ARIMA(1,0,0)(0,0,0)[0] intercept   : AIC=inf, Time=0.04 sec\n",
      " ARIMA(0,0,1)(0,0,0)[0] intercept   : AIC=391.423, Time=0.10 sec\n"
     ]
    },
    {
     "name": "stderr",
     "output_type": "stream",
     "text": [
      "/home/michael/AI-stock-prediction-algos/.venv/lib64/python3.12/site-packages/sklearn/utils/deprecation.py:132: FutureWarning: 'force_all_finite' was renamed to 'ensure_all_finite' in 1.6 and will be removed in 1.8.\n",
      "  warnings.warn(\n",
      "/home/michael/AI-stock-prediction-algos/.venv/lib64/python3.12/site-packages/sklearn/utils/deprecation.py:132: FutureWarning: 'force_all_finite' was renamed to 'ensure_all_finite' in 1.6 and will be removed in 1.8.\n",
      "  warnings.warn(\n",
      "/home/michael/AI-stock-prediction-algos/.venv/lib64/python3.12/site-packages/sklearn/utils/deprecation.py:132: FutureWarning: 'force_all_finite' was renamed to 'ensure_all_finite' in 1.6 and will be removed in 1.8.\n",
      "  warnings.warn(\n"
     ]
    },
    {
     "name": "stdout",
     "output_type": "stream",
     "text": [
      " ARIMA(0,0,0)(0,0,0)[0]             : AIC=8252.710, Time=0.01 sec\n",
      " ARIMA(1,0,2)(0,0,0)[0] intercept   : AIC=-6953.855, Time=0.35 sec\n"
     ]
    },
    {
     "name": "stderr",
     "output_type": "stream",
     "text": [
      "/home/michael/AI-stock-prediction-algos/.venv/lib64/python3.12/site-packages/sklearn/utils/deprecation.py:132: FutureWarning: 'force_all_finite' was renamed to 'ensure_all_finite' in 1.6 and will be removed in 1.8.\n",
      "  warnings.warn(\n"
     ]
    },
    {
     "name": "stdout",
     "output_type": "stream",
     "text": [
      " ARIMA(0,0,2)(0,0,0)[0] intercept   : AIC=-1114.417, Time=0.53 sec\n",
      " ARIMA(1,0,1)(0,0,0)[0] intercept   : AIC=-6955.744, Time=0.18 sec\n"
     ]
    },
    {
     "name": "stderr",
     "output_type": "stream",
     "text": [
      "/home/michael/AI-stock-prediction-algos/.venv/lib64/python3.12/site-packages/sklearn/utils/deprecation.py:132: FutureWarning: 'force_all_finite' was renamed to 'ensure_all_finite' in 1.6 and will be removed in 1.8.\n",
      "  warnings.warn(\n",
      "/home/michael/AI-stock-prediction-algos/.venv/lib64/python3.12/site-packages/sklearn/utils/deprecation.py:132: FutureWarning: 'force_all_finite' was renamed to 'ensure_all_finite' in 1.6 and will be removed in 1.8.\n",
      "  warnings.warn(\n"
     ]
    },
    {
     "name": "stdout",
     "output_type": "stream",
     "text": [
      " ARIMA(2,0,1)(0,0,0)[0] intercept   : AIC=-6953.991, Time=0.41 sec\n"
     ]
    },
    {
     "name": "stderr",
     "output_type": "stream",
     "text": [
      "/home/michael/AI-stock-prediction-algos/.venv/lib64/python3.12/site-packages/sklearn/utils/deprecation.py:132: FutureWarning: 'force_all_finite' was renamed to 'ensure_all_finite' in 1.6 and will be removed in 1.8.\n",
      "  warnings.warn(\n"
     ]
    },
    {
     "name": "stdout",
     "output_type": "stream",
     "text": [
      " ARIMA(2,0,0)(0,0,0)[0] intercept   : AIC=inf, Time=0.35 sec\n"
     ]
    },
    {
     "name": "stderr",
     "output_type": "stream",
     "text": [
      "/home/michael/AI-stock-prediction-algos/.venv/lib64/python3.12/site-packages/sklearn/utils/deprecation.py:132: FutureWarning: 'force_all_finite' was renamed to 'ensure_all_finite' in 1.6 and will be removed in 1.8.\n",
      "  warnings.warn(\n"
     ]
    },
    {
     "name": "stdout",
     "output_type": "stream",
     "text": [
      " ARIMA(1,0,1)(0,0,0)[0]             : AIC=-6954.714, Time=0.41 sec\n",
      "\n",
      "Best model:  ARIMA(1,0,1)(0,0,0)[0] intercept\n",
      "Total fit time: 2.575 seconds\n",
      "\n",
      "Best Order: (1, 0, 1)\n"
     ]
    },
    {
     "data": {
      "text/html": [
       "<table class=\"simpletable\">\n",
       "<caption>SARIMAX Results</caption>\n",
       "<tr>\n",
       "  <th>Dep. Variable:</th>           <td>y</td>        <th>  No. Observations:  </th>   <td>1408</td>   \n",
       "</tr>\n",
       "<tr>\n",
       "  <th>Model:</th>           <td>SARIMAX(1, 0, 1)</td> <th>  Log Likelihood     </th> <td>3481.872</td> \n",
       "</tr>\n",
       "<tr>\n",
       "  <th>Date:</th>            <td>Wed, 09 Jul 2025</td> <th>  AIC                </th> <td>-6955.744</td>\n",
       "</tr>\n",
       "<tr>\n",
       "  <th>Time:</th>                <td>17:04:36</td>     <th>  BIC                </th> <td>-6934.744</td>\n",
       "</tr>\n",
       "<tr>\n",
       "  <th>Sample:</th>                  <td>0</td>        <th>  HQIC               </th> <td>-6947.896</td>\n",
       "</tr>\n",
       "<tr>\n",
       "  <th></th>                      <td> - 1408</td>     <th>                     </th>     <td> </td>    \n",
       "</tr>\n",
       "<tr>\n",
       "  <th>Covariance Type:</th>        <td>opg</td>       <th>                     </th>     <td> </td>    \n",
       "</tr>\n",
       "</table>\n",
       "<table class=\"simpletable\">\n",
       "<tr>\n",
       "      <td></td>         <th>coef</th>     <th>std err</th>      <th>z</th>      <th>P>|z|</th>  <th>[0.025</th>    <th>0.975]</th>  \n",
       "</tr>\n",
       "<tr>\n",
       "  <th>intercept</th> <td>    0.0040</td> <td>    0.004</td> <td>    1.059</td> <td> 0.289</td> <td>   -0.003</td> <td>    0.011</td>\n",
       "</tr>\n",
       "<tr>\n",
       "  <th>ar.L1</th>     <td>    0.9991</td> <td>    0.001</td> <td> 1130.050</td> <td> 0.000</td> <td>    0.997</td> <td>    1.001</td>\n",
       "</tr>\n",
       "<tr>\n",
       "  <th>ma.L1</th>     <td>   -0.0990</td> <td>    0.018</td> <td>   -5.430</td> <td> 0.000</td> <td>   -0.135</td> <td>   -0.063</td>\n",
       "</tr>\n",
       "<tr>\n",
       "  <th>sigma2</th>    <td>    0.0004</td> <td> 9.41e-06</td> <td>   44.026</td> <td> 0.000</td> <td>    0.000</td> <td>    0.000</td>\n",
       "</tr>\n",
       "</table>\n",
       "<table class=\"simpletable\">\n",
       "<tr>\n",
       "  <th>Ljung-Box (L1) (Q):</th>     <td>0.05</td> <th>  Jarque-Bera (JB):  </th> <td>1124.74</td>\n",
       "</tr>\n",
       "<tr>\n",
       "  <th>Prob(Q):</th>                <td>0.83</td> <th>  Prob(JB):          </th>  <td>0.00</td>  \n",
       "</tr>\n",
       "<tr>\n",
       "  <th>Heteroskedasticity (H):</th> <td>1.14</td> <th>  Skew:              </th>  <td>-0.29</td> \n",
       "</tr>\n",
       "<tr>\n",
       "  <th>Prob(H) (two-sided):</th>    <td>0.16</td> <th>  Kurtosis:          </th>  <td>7.34</td>  \n",
       "</tr>\n",
       "</table><br/><br/>Warnings:<br/>[1] Covariance matrix calculated using the outer product of gradients (complex-step)."
      ],
      "text/latex": [
       "\\begin{center}\n",
       "\\begin{tabular}{lclc}\n",
       "\\toprule\n",
       "\\textbf{Dep. Variable:}          &        y         & \\textbf{  No. Observations:  } &    1408     \\\\\n",
       "\\textbf{Model:}                  & SARIMAX(1, 0, 1) & \\textbf{  Log Likelihood     } &  3481.872   \\\\\n",
       "\\textbf{Date:}                   & Wed, 09 Jul 2025 & \\textbf{  AIC                } & -6955.744   \\\\\n",
       "\\textbf{Time:}                   &     17:04:36     & \\textbf{  BIC                } & -6934.744   \\\\\n",
       "\\textbf{Sample:}                 &        0         & \\textbf{  HQIC               } & -6947.896   \\\\\n",
       "\\textbf{}                        &      - 1408      & \\textbf{                     } &             \\\\\n",
       "\\textbf{Covariance Type:}        &       opg        & \\textbf{                     } &             \\\\\n",
       "\\bottomrule\n",
       "\\end{tabular}\n",
       "\\begin{tabular}{lcccccc}\n",
       "                   & \\textbf{coef} & \\textbf{std err} & \\textbf{z} & \\textbf{P$> |$z$|$} & \\textbf{[0.025} & \\textbf{0.975]}  \\\\\n",
       "\\midrule\n",
       "\\textbf{intercept} &       0.0040  &        0.004     &     1.059  &         0.289        &       -0.003    &        0.011     \\\\\n",
       "\\textbf{ar.L1}     &       0.9991  &        0.001     &  1130.050  &         0.000        &        0.997    &        1.001     \\\\\n",
       "\\textbf{ma.L1}     &      -0.0990  &        0.018     &    -5.430  &         0.000        &       -0.135    &       -0.063     \\\\\n",
       "\\textbf{sigma2}    &       0.0004  &     9.41e-06     &    44.026  &         0.000        &        0.000    &        0.000     \\\\\n",
       "\\bottomrule\n",
       "\\end{tabular}\n",
       "\\begin{tabular}{lclc}\n",
       "\\textbf{Ljung-Box (L1) (Q):}     & 0.05 & \\textbf{  Jarque-Bera (JB):  } & 1124.74  \\\\\n",
       "\\textbf{Prob(Q):}                & 0.83 & \\textbf{  Prob(JB):          } &   0.00   \\\\\n",
       "\\textbf{Heteroskedasticity (H):} & 1.14 & \\textbf{  Skew:              } &  -0.29   \\\\\n",
       "\\textbf{Prob(H) (two-sided):}    & 0.16 & \\textbf{  Kurtosis:          } &   7.34   \\\\\n",
       "\\bottomrule\n",
       "\\end{tabular}\n",
       "%\\caption{SARIMAX Results}\n",
       "\\end{center}\n",
       "\n",
       "Warnings: \\newline\n",
       " [1] Covariance matrix calculated using the outer product of gradients (complex-step)."
      ],
      "text/plain": [
       "<class 'statsmodels.iolib.summary.Summary'>\n",
       "\"\"\"\n",
       "                               SARIMAX Results                                \n",
       "==============================================================================\n",
       "Dep. Variable:                      y   No. Observations:                 1408\n",
       "Model:               SARIMAX(1, 0, 1)   Log Likelihood                3481.872\n",
       "Date:                Wed, 09 Jul 2025   AIC                          -6955.744\n",
       "Time:                        17:04:36   BIC                          -6934.744\n",
       "Sample:                             0   HQIC                         -6947.896\n",
       "                               - 1408                                         \n",
       "Covariance Type:                  opg                                         \n",
       "==============================================================================\n",
       "                 coef    std err          z      P>|z|      [0.025      0.975]\n",
       "------------------------------------------------------------------------------\n",
       "intercept      0.0040      0.004      1.059      0.289      -0.003       0.011\n",
       "ar.L1          0.9991      0.001   1130.050      0.000       0.997       1.001\n",
       "ma.L1         -0.0990      0.018     -5.430      0.000      -0.135      -0.063\n",
       "sigma2         0.0004   9.41e-06     44.026      0.000       0.000       0.000\n",
       "===================================================================================\n",
       "Ljung-Box (L1) (Q):                   0.05   Jarque-Bera (JB):              1124.74\n",
       "Prob(Q):                              0.83   Prob(JB):                         0.00\n",
       "Heteroskedasticity (H):               1.14   Skew:                            -0.29\n",
       "Prob(H) (two-sided):                  0.16   Kurtosis:                         7.34\n",
       "===================================================================================\n",
       "\n",
       "Warnings:\n",
       "[1] Covariance matrix calculated using the outer product of gradients (complex-step).\n",
       "\"\"\""
      ]
     },
     "execution_count": 61,
     "metadata": {},
     "output_type": "execute_result"
    }
   ],
   "source": [
    "# This cell can be re-run independently if you want to experiment with model parameters\n",
    "print(\"Finding best ARIMA order...\")\n",
    "model_auto = auto_arima(y_train_log,\n",
    "                        exogenous=X_train,\n",
    "                        seasonal=False,\n",
    "                        stationary=True,\n",
    "                        trace=True,\n",
    "                        stepwise=True,\n",
    "                        suppress_warnings=True,\n",
    "                        error_action='ignore')\n",
    "\n",
    "# The summary is printed directly in the notebook output\n",
    "best_order = model_auto.order\n",
    "print(f\"\\nBest Order: {best_order}\")\n",
    "model_auto.summary()"
   ]
  },
  {
   "cell_type": "code",
   "execution_count": null,
   "id": "9aea43ae",
   "metadata": {},
   "outputs": [
    {
     "name": "stdout",
     "output_type": "stream",
     "text": [
      "Running rolling forecast (refitting every 20 days)...\n",
      "Refitting model at step 0...\n"
     ]
    },
    {
     "name": "stderr",
     "output_type": "stream",
     "text": [
      "/home/michael/AI-stock-prediction-algos/.venv/lib64/python3.12/site-packages/statsmodels/tsa/base/tsa_model.py:473: ValueWarning: A date index has been provided, but it has no associated frequency information and so will be ignored when e.g. forecasting.\n",
      "  self._init_dates(dates, freq)\n",
      "/home/michael/AI-stock-prediction-algos/.venv/lib64/python3.12/site-packages/statsmodels/tsa/base/tsa_model.py:473: ValueWarning: A date index has been provided, but it has no associated frequency information and so will be ignored when e.g. forecasting.\n",
      "  self._init_dates(dates, freq)\n",
      "/home/michael/AI-stock-prediction-algos/.venv/lib64/python3.12/site-packages/statsmodels/tsa/base/tsa_model.py:473: ValueWarning: A date index has been provided, but it has no associated frequency information and so will be ignored when e.g. forecasting.\n",
      "  self._init_dates(dates, freq)\n"
     ]
    },
    {
     "ename": "ValueError",
     "evalue": "\"nm\" is not a valid estimator.",
     "output_type": "error",
     "traceback": [
      "\u001b[31m---------------------------------------------------------------------------\u001b[39m",
      "\u001b[31mValueError\u001b[39m                                Traceback (most recent call last)",
      "\u001b[36mCell\u001b[39m\u001b[36m \u001b[39m\u001b[32mIn[65]\u001b[39m\u001b[32m, line 11\u001b[39m\n\u001b[32m      9\u001b[39m     \u001b[38;5;28mprint\u001b[39m(\u001b[33mf\u001b[39m\u001b[33m\"\u001b[39m\u001b[33mRefitting model at step \u001b[39m\u001b[38;5;132;01m{\u001b[39;00mi\u001b[38;5;132;01m}\u001b[39;00m\u001b[33m...\u001b[39m\u001b[33m\"\u001b[39m)\n\u001b[32m     10\u001b[39m     model = ARIMA(history_log, exog=exog_history, order=best_order)\n\u001b[32m---> \u001b[39m\u001b[32m11\u001b[39m     model_fit = \u001b[43mmodel\u001b[49m\u001b[43m.\u001b[49m\u001b[43mfit\u001b[49m\u001b[43m(\u001b[49m\u001b[43mmethod\u001b[49m\u001b[43m=\u001b[49m\u001b[33;43m'\u001b[39;49m\u001b[33;43mnm\u001b[39;49m\u001b[33;43m'\u001b[39;49m\u001b[43m)\u001b[49m\n\u001b[32m     13\u001b[39m next_exog = X_test.iloc[i:i+\u001b[32m1\u001b[39m]\n\u001b[32m     14\u001b[39m forecast_log = model_fit.forecast(steps=\u001b[32m1\u001b[39m, exog=next_exog)\n",
      "\u001b[36mFile \u001b[39m\u001b[32m~/AI-stock-prediction-algos/.venv/lib64/python3.12/site-packages/statsmodels/tsa/arima/model.py:318\u001b[39m, in \u001b[36mARIMA.fit\u001b[39m\u001b[34m(self, start_params, transformed, includes_fixed, method, method_kwargs, gls, gls_kwargs, cov_type, cov_kwds, return_params, low_memory)\u001b[39m\n\u001b[32m    315\u001b[39m \u001b[38;5;66;03m# Determine which method to use\u001b[39;00m\n\u001b[32m    316\u001b[39m \u001b[38;5;66;03m# 1. If method is specified, make sure it is valid\u001b[39;00m\n\u001b[32m    317\u001b[39m \u001b[38;5;28;01mif\u001b[39;00m method \u001b[38;5;129;01mis\u001b[39;00m \u001b[38;5;129;01mnot\u001b[39;00m \u001b[38;5;28;01mNone\u001b[39;00m:\n\u001b[32m--> \u001b[39m\u001b[32m318\u001b[39m     \u001b[38;5;28;43mself\u001b[39;49m\u001b[43m.\u001b[49m\u001b[43m_spec_arima\u001b[49m\u001b[43m.\u001b[49m\u001b[43mvalidate_estimator\u001b[49m\u001b[43m(\u001b[49m\u001b[43mmethod\u001b[49m\u001b[43m)\u001b[49m\n\u001b[32m    319\u001b[39m \u001b[38;5;66;03m# 2. Otherwise, use state space\u001b[39;00m\n\u001b[32m    320\u001b[39m \u001b[38;5;66;03m# TODO: may want to consider using innovations (MLE) if possible here,\u001b[39;00m\n\u001b[32m    321\u001b[39m \u001b[38;5;66;03m# (since in some cases it may be faster than state space), but it is\u001b[39;00m\n\u001b[32m    322\u001b[39m \u001b[38;5;66;03m# less tested.\u001b[39;00m\n\u001b[32m    323\u001b[39m \u001b[38;5;28;01melse\u001b[39;00m:\n\u001b[32m    324\u001b[39m     method = \u001b[33m'\u001b[39m\u001b[33mstatespace\u001b[39m\u001b[33m'\u001b[39m\n",
      "\u001b[36mFile \u001b[39m\u001b[32m~/AI-stock-prediction-algos/.venv/lib64/python3.12/site-packages/statsmodels/tsa/arima/specification.py:731\u001b[39m, in \u001b[36mSARIMAXSpecification.validate_estimator\u001b[39m\u001b[34m(self, estimator)\u001b[39m\n\u001b[32m    729\u001b[39m     \u001b[38;5;28;01mpass\u001b[39;00m\n\u001b[32m    730\u001b[39m \u001b[38;5;28;01melse\u001b[39;00m:\n\u001b[32m--> \u001b[39m\u001b[32m731\u001b[39m     \u001b[38;5;28;01mraise\u001b[39;00m \u001b[38;5;167;01mValueError\u001b[39;00m(\u001b[33m'\u001b[39m\u001b[33m\"\u001b[39m\u001b[38;5;132;01m%s\u001b[39;00m\u001b[33m\"\u001b[39m\u001b[33m is not a valid estimator.\u001b[39m\u001b[33m'\u001b[39m % estimator)\n",
      "\u001b[31mValueError\u001b[39m: \"nm\" is not a valid estimator."
     ]
    }
   ],
   "source": [
    "print(f\"Running rolling forecast (refitting every {CONFIG['refit_interval']} days)...\")\n",
    "history_log = list(y_train_log)\n",
    "exog_history = X_train.copy()\n",
    "predictions = []\n",
    "model_fit = None\n",
    "\n",
    "for i in range(len(y_test)):\n",
    "    try:\n",
    "        # Refit the model periodically\n",
    "        if i % CONFIG['refit_interval'] == 0 or model_fit is None:\n",
    "            print(f\"Refitting model at step {i}...\")\n",
    "            model = ARIMA(history_log, exog=exog_history, order=best_order)\n",
    "            \n",
    "            # THE FIX IS HERE: Use method_kwargs to specify the optimizer\n",
    "            model_fit = model.fit(method_kwargs={'optimizer': 'nm'})\n",
    "\n",
    "        # Forecast the next step\n",
    "        next_exog = X_test.iloc[i:i+1]\n",
    "        forecast_log = model_fit.forecast(steps=1, exog=next_exog)\n",
    "        prediction = np.exp(forecast_log.iloc[0])\n",
    "        predictions.append(prediction)\n",
    "\n",
    "        # Update history for the next iteration\n",
    "        history_log.append(np.log(y_test.iloc[i]))\n",
    "        exog_history = pd.concat([exog_history, next_exog])\n",
    "\n",
    "    except Exception:\n",
    "        print(f\"Forecast failed at step {i}. Appending NaN.\")\n",
    "        # traceback.print_exc() # You can uncomment this for detailed debugging\n",
    "        predictions.append(np.nan)\n",
    "\n",
    "final_predictions = pd.Series(predictions, index=y_test.index).dropna()"
   ]
  },
  {
   "cell_type": "code",
   "execution_count": null,
   "id": "c7671ae7",
   "metadata": {},
   "outputs": [],
   "source": [
    "aligned_actuals = y_test.loc[final_predictions.index]\n",
    "rmse = np.sqrt(mean_squared_error(aligned_actuals, final_predictions))\n",
    "mae = mean_absolute_error(aligned_actuals, final_predictions)\n",
    "mape = mean_absolute_percentage_error(aligned_actuals, final_predictions)\n",
    "\n",
    "print(\"\\n--- Rolling Forecast Performance ---\")\n",
    "print(f\"RMSE:  {rmse:.2f}\")\n",
    "print(f\"MAE:   {mae:.2f}\")\n",
    "print(f\"MAPE:  {mape:.2%}\")"
   ]
  },
  {
   "cell_type": "code",
   "execution_count": null,
   "id": "2a7b30f5",
   "metadata": {},
   "outputs": [],
   "source": [
    "plt.figure(figsize=(14, 7))\n",
    "plt.plot(aligned_actuals, label='Actual Prices', color='green')\n",
    "plt.plot(final_predictions, label='Rolling Forecast', linestyle='--', color='red')\n",
    "plt.title(f'{CONFIG[\"target_col\"]} Rolling Forecast vs Actual Price')\n",
    "plt.xlabel('Date')\n",
    "plt.ylabel('Price (USD)')\n",
    "plt.legend()\n",
    "plt.grid(True)\n",
    "plt.show()"
   ]
  }
 ],
 "metadata": {
  "kernelspec": {
   "display_name": ".venv",
   "language": "python",
   "name": "python3"
  },
  "language_info": {
   "codemirror_mode": {
    "name": "ipython",
    "version": 3
   },
   "file_extension": ".py",
   "mimetype": "text/x-python",
   "name": "python",
   "nbconvert_exporter": "python",
   "pygments_lexer": "ipython3",
   "version": "3.12.11"
  }
 },
 "nbformat": 4,
 "nbformat_minor": 5
}
