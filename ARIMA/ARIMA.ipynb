{
 "cells": [
  {
   "cell_type": "code",
   "execution_count": null,
   "id": "b73c4993",
   "metadata": {},
   "outputs": [],
   "source": [
    "import numpy as np\n",
    "import pandas as pd\n",
    "import matplotlib.pyplot as plt\n",
    "import yfinance as yf\n",
    "from sklearn.preprocessing import StandardScaler\n",
    "from sklearn.metrics import mean_squared_error, mean_absolute_error, mean_absolute_percentage_error\n",
    "from statsmodels.tsa.arima.model import ARIMA\n",
    "from pmdarima import auto_arima"
   ]
  },
  {
   "cell_type": "code",
   "execution_count": null,
   "id": "3ed890f0",
   "metadata": {},
   "outputs": [],
   "source": [
    "# All settings are at the top for easy changes\n",
    "CONFIG = {\n",
    "    \"symbols\": ['AMZN', '^GSPC', '^VIX', 'AAPL', '^TNX'],\n",
    "    \"feature_cols\": ['GSPC', 'VIX', 'AAPL', 'TNX'], \n",
    "    \"target_col\": 'AMZN',\n",
    "    \"start_date\": '2018-01-01',\n",
    "    \"end_date\": '2024-12-31',\n",
    "    \"train_split_ratio\": 0.8,\n",
    "    \"refit_interval\": 20\n",
    "}"
   ]
  },
  {
   "cell_type": "code",
   "execution_count": null,
   "id": "c8fd16f5",
   "metadata": {},
   "outputs": [],
   "source": [
    "print(\"Fetching data...\")\n",
    "data = yf.download(CONFIG['symbols'], start=CONFIG['start_date'], end=CONFIG['end_date'])['Close']\n",
    "data = data.ffill().dropna()\n",
    "data.columns = [col.replace('^', '') for col in CONFIG['symbols']]\n",
    "\n",
    "# Immediately inspect the data\n",
    "data.head()"
   ]
  },
  {
   "cell_type": "code",
   "execution_count": null,
   "id": "57ef5630",
   "metadata": {},
   "outputs": [],
   "source": [
    "print(\"Preparing data...\")\n",
    "train_size = int(len(data) * CONFIG['train_split_ratio'])\n",
    "train_df, test_df = data.iloc[:train_size], data.iloc[train_size:]\n",
    "\n",
    "y_train_log = np.log(train_df[CONFIG['target_col']])\n",
    "y_test = test_df[CONFIG['target_col']]\n",
    "\n",
    "scaler = StandardScaler()\n",
    "X_train = pd.DataFrame(scaler.fit_transform(train_df[CONFIG['feature_cols']]),\n",
    "                       index=train_df.index, columns=CONFIG['feature_cols'])\n",
    "X_test = pd.DataFrame(scaler.transform(test_df[CONFIG['feature_cols']]),\n",
    "                      index=test_df.index, columns=CONFIG['feature_cols'])"
   ]
  },
  {
   "cell_type": "markdown",
   "id": "17e36eed",
   "metadata": {},
   "source": []
  },
  {
   "cell_type": "code",
   "execution_count": null,
   "id": "f1c8acee",
   "metadata": {},
   "outputs": [],
   "source": [
    "# This cell can be re-run independently if you want to experiment with model parameters\n",
    "print(\"Finding best ARIMA order...\")\n",
    "model_auto = auto_arima(y_train_log,\n",
    "                        exogenous=X_train,\n",
    "                        seasonal=False,\n",
    "                        stationary=True,\n",
    "                        trace=True,\n",
    "                        stepwise=True,\n",
    "                        suppress_warnings=True,\n",
    "                        error_action='ignore')\n",
    "\n",
    "# The summary is printed directly in the notebook output\n",
    "best_order = model_auto.order\n",
    "print(f\"\\nBest Order: {best_order}\")\n",
    "model_auto.summary()"
   ]
  },
  {
   "cell_type": "code",
   "execution_count": null,
   "id": "9aea43ae",
   "metadata": {},
   "outputs": [],
   "source": [
    "print(f\"Running rolling forecast (refitting every {CONFIG['refit_interval']} days)...\")\n",
    "history_log = list(y_train_log)\n",
    "exog_history = X_train.copy()\n",
    "predictions = []\n",
    "model_fit = None\n",
    "\n",
    "for i in range(len(y_test)):\n",
    "    try:\n",
    "        # Refit the model periodically\n",
    "        if i % CONFIG['refit_interval'] == 0 or model_fit is None:\n",
    "            print(f\"Refitting model at step {i}...\")\n",
    "            model = ARIMA(history_log, exog=exog_history, order=best_order)\n",
    "            \n",
    "            # THE FIX: Remove method_kwargs, as it's no longer needed for this model.\n",
    "            model_fit = model.fit()\n",
    "\n",
    "        # Forecast the next step\n",
    "        next_exog = X_test.iloc[i:i+1]\n",
    "        forecast_log = model_fit.forecast(steps=1, exog=next_exog)\n",
    "        prediction = np.exp(forecast_log.iloc[0])\n",
    "        predictions.append(prediction)\n",
    "\n",
    "        # Update history for the next iteration\n",
    "        history_log.append(np.log(y_test.iloc[i]))\n",
    "        exog_history = pd.concat([exog_history, next_exog])\n",
    "\n",
    "    except Exception as e:\n",
    "        print(f\"Forecast failed at step {i}: {e}\")\n",
    "        predictions.append(np.nan)\n",
    "\n",
    "final_predictions = pd.Series(predictions, index=y_test.index).dropna()"
   ]
  },
  {
   "cell_type": "code",
   "execution_count": null,
   "id": "c7671ae7",
   "metadata": {},
   "outputs": [],
   "source": [
    "aligned_actuals = y_test.loc[final_predictions.index]\n",
    "rmse = np.sqrt(mean_squared_error(aligned_actuals, final_predictions))\n",
    "mae = mean_absolute_error(aligned_actuals, final_predictions)\n",
    "mape = mean_absolute_percentage_error(aligned_actuals, final_predictions)\n",
    "\n",
    "print(\"\\n--- Rolling Forecast Performance ---\")\n",
    "print(f\"RMSE  {rmse:.2f}\") # Root Mean Squared Error\n",
    "print(f\"MAE:   {mae:.2f}\") # Mean Absolute Error\n",
    "print(f\"MAPE:  {mape:.2%}\") # Mean Absolute Percentage Error\n"
   ]
  },
  {
   "cell_type": "code",
   "execution_count": null,
   "id": "2a7b30f5",
   "metadata": {},
   "outputs": [],
   "source": [
    "plt.figure(figsize=(14, 7))\n",
    "plt.plot(aligned_actuals, label='Actual Prices', color='green')\n",
    "plt.plot(final_predictions, label='Rolling Forecast', linestyle='--', color='red')\n",
    "plt.title(f'{CONFIG[\"target_col\"]} Rolling Forecast vs Actual Price')\n",
    "plt.xlabel('Date')\n",
    "plt.ylabel('Price (USD)')\n",
    "plt.legend()\n",
    "plt.grid(True)\n",
    "plt.show()"
   ]
  }
 ],
 "metadata": {
  "kernelspec": {
   "display_name": ".venv",
   "language": "python",
   "name": "python3"
  },
  "language_info": {
   "codemirror_mode": {
    "name": "ipython",
    "version": 3
   },
   "file_extension": ".py",
   "mimetype": "text/x-python",
   "name": "python",
   "nbconvert_exporter": "python",
   "pygments_lexer": "ipython3",
   "version": "3.12.11"
  }
 },
 "nbformat": 4,
 "nbformat_minor": 5
}
